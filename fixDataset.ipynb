{
 "cells": [
  {
   "cell_type": "code",
   "execution_count": 5,
   "metadata": {},
   "outputs": [],
   "source": [
    "import pandas as pd\n",
    "import matplotlib.pyplot as plt\n",
    "%matplotlib inline"
   ]
  },
  {
   "cell_type": "code",
   "execution_count": 6,
   "metadata": {},
   "outputs": [],
   "source": [
    "import pandas as pd\n",
    "import matplotlib.pyplot as plt\n",
    "%matplotlib inline\n",
    "import csv\n",
    "import os\n",
    "import numpy as np\n",
    "import pandas as pd\n",
    "\n",
    "# Importing re to get number out from a stirng.\n",
    "import re"
   ]
  },
  {
   "cell_type": "code",
   "execution_count": 7,
   "metadata": {},
   "outputs": [
    {
     "data": {
      "text/html": [
       "<div>\n",
       "<style scoped>\n",
       "    .dataframe tbody tr th:only-of-type {\n",
       "        vertical-align: middle;\n",
       "    }\n",
       "\n",
       "    .dataframe tbody tr th {\n",
       "        vertical-align: top;\n",
       "    }\n",
       "\n",
       "    .dataframe thead th {\n",
       "        text-align: right;\n",
       "    }\n",
       "</style>\n",
       "<table border=\"1\" class=\"dataframe\">\n",
       "  <thead>\n",
       "    <tr style=\"text-align: right;\">\n",
       "      <th></th>\n",
       "      <th>Main ID</th>\n",
       "      <th>Incident ID</th>\n",
       "      <th>Incident Type</th>\n",
       "      <th>Region of Incident</th>\n",
       "      <th>Website Date</th>\n",
       "      <th>Incident year</th>\n",
       "      <th>Reported Month</th>\n",
       "      <th>Number of Dead</th>\n",
       "      <th>Minimum Estimated Number of Missing</th>\n",
       "      <th>Total Number of Dead and Missing</th>\n",
       "      <th>...</th>\n",
       "      <th>Region of Origin</th>\n",
       "      <th>Cause of Death</th>\n",
       "      <th>Migration route</th>\n",
       "      <th>Location of death</th>\n",
       "      <th>Information Source</th>\n",
       "      <th>Coordinates</th>\n",
       "      <th>UNSD Geographical Grouping</th>\n",
       "      <th>Article title</th>\n",
       "      <th>Source Quality</th>\n",
       "      <th>URL</th>\n",
       "    </tr>\n",
       "  </thead>\n",
       "  <tbody>\n",
       "    <tr>\n",
       "      <th>0</th>\n",
       "      <td>2014.MMP00001</td>\n",
       "      <td>2014.MMP00001</td>\n",
       "      <td>Incident</td>\n",
       "      <td>North America</td>\n",
       "      <td>2014-01-06</td>\n",
       "      <td>2014</td>\n",
       "      <td>January</td>\n",
       "      <td>1.0</td>\n",
       "      <td>NaN</td>\n",
       "      <td>1</td>\n",
       "      <td>...</td>\n",
       "      <td>Central America</td>\n",
       "      <td>Mixed or unknown</td>\n",
       "      <td>US-Mexico border crossing</td>\n",
       "      <td>Pima Country Office of the Medical Examiner ju...</td>\n",
       "      <td>Pima County Office of the Medical Examiner (PC...</td>\n",
       "      <td>POINT (-110.366453 31.650259)</td>\n",
       "      <td>Northern America</td>\n",
       "      <td>NaN</td>\n",
       "      <td>5.0</td>\n",
       "      <td>http://humaneborders.info/</td>\n",
       "    </tr>\n",
       "    <tr>\n",
       "      <th>1</th>\n",
       "      <td>2014.MMP00002</td>\n",
       "      <td>2014.MMP00002</td>\n",
       "      <td>Incident</td>\n",
       "      <td>North America</td>\n",
       "      <td>2014-01-12</td>\n",
       "      <td>2014</td>\n",
       "      <td>January</td>\n",
       "      <td>1.0</td>\n",
       "      <td>NaN</td>\n",
       "      <td>1</td>\n",
       "      <td>...</td>\n",
       "      <td>Latin America / Caribbean (P)</td>\n",
       "      <td>Mixed or unknown</td>\n",
       "      <td>US-Mexico border crossing</td>\n",
       "      <td>Pima Country Office of the Medical Examiner ju...</td>\n",
       "      <td>Pima County Office of the Medical Examiner (PC...</td>\n",
       "      <td>POINT (-111.73756 31.59713)</td>\n",
       "      <td>Northern America</td>\n",
       "      <td>Undocumented Border Crossers 01/01/2014-08/29/...</td>\n",
       "      <td>5.0</td>\n",
       "      <td>NaN</td>\n",
       "    </tr>\n",
       "  </tbody>\n",
       "</table>\n",
       "<p>2 rows × 25 columns</p>\n",
       "</div>"
      ],
      "text/plain": [
       "         Main ID    Incident ID Incident Type Region of Incident Website Date  \\\n",
       "0  2014.MMP00001  2014.MMP00001      Incident      North America   2014-01-06   \n",
       "1  2014.MMP00002  2014.MMP00002      Incident      North America   2014-01-12   \n",
       "\n",
       "   Incident year Reported Month  Number of Dead  \\\n",
       "0           2014        January             1.0   \n",
       "1           2014        January             1.0   \n",
       "\n",
       "   Minimum Estimated Number of Missing  Total Number of Dead and Missing  ...  \\\n",
       "0                                  NaN                                 1  ...   \n",
       "1                                  NaN                                 1  ...   \n",
       "\n",
       "                Region of Origin    Cause of Death            Migration route  \\\n",
       "0                Central America  Mixed or unknown  US-Mexico border crossing   \n",
       "1  Latin America / Caribbean (P)  Mixed or unknown  US-Mexico border crossing   \n",
       "\n",
       "                                   Location of death  \\\n",
       "0  Pima Country Office of the Medical Examiner ju...   \n",
       "1  Pima Country Office of the Medical Examiner ju...   \n",
       "\n",
       "                                  Information Source  \\\n",
       "0  Pima County Office of the Medical Examiner (PC...   \n",
       "1  Pima County Office of the Medical Examiner (PC...   \n",
       "\n",
       "                     Coordinates UNSD Geographical Grouping  \\\n",
       "0  POINT (-110.366453 31.650259)           Northern America   \n",
       "1    POINT (-111.73756 31.59713)           Northern America   \n",
       "\n",
       "                                       Article title Source Quality  \\\n",
       "0                                                NaN            5.0   \n",
       "1  Undocumented Border Crossers 01/01/2014-08/29/...            5.0   \n",
       "\n",
       "                          URL  \n",
       "0  http://humaneborders.info/  \n",
       "1                         NaN  \n",
       "\n",
       "[2 rows x 25 columns]"
      ]
     },
     "execution_count": 7,
     "metadata": {},
     "output_type": "execute_result"
    }
   ],
   "source": [
    "# filmData\n",
    "oo_missing = pd.read_csv(\"../Datasets/Missing_Migrants_Global_Figures allData 2.csv\")\n",
    "oo_missing.head(2)"
   ]
  },
  {
   "cell_type": "code",
   "execution_count": 8,
   "metadata": {},
   "outputs": [
    {
     "data": {
      "text/plain": [
       "Index(['Main ID', 'Incident ID', 'Incident Type', 'Region of Incident',\n",
       "       'Website Date', 'Incident year', 'Reported Month', 'Number of Dead',\n",
       "       'Minimum Estimated Number of Missing',\n",
       "       'Total Number of Dead and Missing', 'Number of Survivors',\n",
       "       'Number of Females', 'Number of Males', 'Number of Children',\n",
       "       'Country of Origin', 'Region of Origin', 'Cause of Death',\n",
       "       'Migration route', 'Location of death', 'Information Source',\n",
       "       'Coordinates', 'UNSD Geographical Grouping', 'Article title',\n",
       "       'Source Quality', 'URL'],\n",
       "      dtype='object')"
      ]
     },
     "execution_count": 8,
     "metadata": {},
     "output_type": "execute_result"
    }
   ],
   "source": [
    "# remove space from titles\n",
    "oo_missing.columns"
   ]
  },
  {
   "cell_type": "code",
   "execution_count": 9,
   "metadata": {},
   "outputs": [],
   "source": [
    "oo_missing.columns = ['Main_ID', 'Incident_ID', 'Incident_Type', 'Region_of_Incident',\n",
    "       'Website_Date', 'Incident_year', 'Reported_Month', 'Number_of_Dead',\n",
    "       'Minimum_Estimated_Number_of_Missing',\n",
    "       'Total_Number_of_Dead_and_Missing', 'Number_of_Survivors',\n",
    "       'Number_of_Females', 'Number_of_Males', 'Number_of_Children',\n",
    "       'Country_of_Origin', 'Region_of_Origin', 'Cause_of_Death',\n",
    "       'Migration_route', 'Location_of_death', 'Information_Source',\n",
    "       'Coordinates', 'UNSD_Geographical_Grouping', 'Article_title',\n",
    "       'Source_Quality', 'URL']\n",
    "     "
   ]
  },
  {
   "cell_type": "code",
   "execution_count": 10,
   "metadata": {},
   "outputs": [
    {
     "data": {
      "text/plain": [
       "Index(['Main_ID', 'Incident_ID', 'Incident_Type', 'Region_of_Incident',\n",
       "       'Website_Date', 'Incident_year', 'Reported_Month', 'Number_of_Dead',\n",
       "       'Minimum_Estimated_Number_of_Missing',\n",
       "       'Total_Number_of_Dead_and_Missing', 'Number_of_Survivors',\n",
       "       'Number_of_Females', 'Number_of_Males', 'Number_of_Children',\n",
       "       'Country_of_Origin', 'Region_of_Origin', 'Cause_of_Death',\n",
       "       'Migration_route', 'Location_of_death', 'Information_Source',\n",
       "       'Coordinates', 'UNSD_Geographical_Grouping', 'Article_title',\n",
       "       'Source_Quality', 'URL'],\n",
       "      dtype='object')"
      ]
     },
     "execution_count": 10,
     "metadata": {},
     "output_type": "execute_result"
    }
   ],
   "source": [
    "# titles without spaces\n",
    "oo_missing.columns\n"
   ]
  },
  {
   "cell_type": "code",
   "execution_count": 11,
   "metadata": {},
   "outputs": [
    {
     "name": "stdout",
     "output_type": "stream",
     "text": [
      "11469\n",
      "11469\n"
     ]
    }
   ],
   "source": [
    "print(len(oo_missing))\n",
    "serial= []\n",
    "def gameName (name,listname): \n",
    "    for x in range(len(name)):\n",
    "        listname.append(x)\n",
    "gameName(oo_missing,serial)\n",
    "print(len(serial))\n",
    "\n",
    "# copy dataframe with with new name df\n",
    "df = oo_missing\n",
    "\n",
    "# making new array list to append it to df from list\n",
    "# link : https://www.statology.org/add-numpy-array-to-pandas-dataframe/\n",
    "blocks  = np.array(serial)\n",
    "# pd.concat([pd.Series(blocks),df ], axis=1)\n",
    "df['serial'] = blocks.tolist()\n",
    "# print(serial )"
   ]
  },
  {
   "cell_type": "code",
   "execution_count": 12,
   "metadata": {},
   "outputs": [
    {
     "name": "stdout",
     "output_type": "stream",
     "text": [
      "<class 'pandas.core.series.Series'>\n"
     ]
    },
    {
     "data": {
      "text/plain": [
       "0        2014-01-06\n",
       "1        2014-01-12\n",
       "2        2014-01-14\n",
       "3        2014-01-16\n",
       "4        2014-01-16\n",
       "            ...    \n",
       "11464    2022-11-10\n",
       "11465    2022-11-12\n",
       "11466    2022-11-20\n",
       "11467    2022-11-16\n",
       "11468    2016-12-31\n",
       "Name: Website_Date, Length: 11469, dtype: object"
      ]
     },
     "execution_count": 12,
     "metadata": {},
     "output_type": "execute_result"
    }
   ],
   "source": [
    "# making new list from the old dataframe with coordinates and date\n",
    "Coordinates = df[\"Coordinates\"]  # <class 'pandas.core.series.Series'>\n",
    "Website_Date = df[\"Website_Date\"]\n",
    "Region_of_Incident = df[\"Region_of_Incident\"]\n",
    "# Coordinates  = np.array(Coordinates)\n",
    "print(type(Website_Date))\n",
    "Website_Date"
   ]
  },
  {
   "cell_type": "code",
   "execution_count": 21,
   "metadata": {},
   "outputs": [
    {
     "data": {
      "text/plain": [
       "0         North America\n",
       "1         North America\n",
       "2         North America\n",
       "3         North America\n",
       "4                Europe\n",
       "              ...      \n",
       "11464     North America\n",
       "11465         Caribbean\n",
       "11466     North America\n",
       "11467            Europe\n",
       "11468    Western Africa\n",
       "Name: Region_of_Incident, Length: 11469, dtype: object"
      ]
     },
     "execution_count": 21,
     "metadata": {},
     "output_type": "execute_result"
    }
   ],
   "source": [
    "Region_of_Incident"
   ]
  },
  {
   "cell_type": "code",
   "execution_count": 13,
   "metadata": {},
   "outputs": [
    {
     "name": "stdout",
     "output_type": "stream",
     "text": [
      "2014-01-06\n"
     ]
    }
   ],
   "source": [
    "# importing columns coordinate from dataframe with hash string and lat , lot to online lat and lot \n",
    "# # Coordinates = df[\"Coordinates\"]\n",
    "coordinatesLotLon = []\n",
    "\n",
    "\n",
    "newArrayList = []\n",
    "coordinatesLotLon.clear()\n",
    "\n",
    "def changeListIndexToNumber (input):\n",
    "    for x in range(len(input)):\n",
    "        text = input[x]\n",
    "        coordinatesLotLon.append(str(text))\n",
    "changeListIndexToNumber(Coordinates) \n",
    "\n",
    "\n",
    "\n",
    "# test = changeListIndexToNumber(\"POINT (-110.366453 31.650259)\")\n",
    "# removing all unnecessary information and return onlie the number \n",
    "newTestList = []\n",
    "newTestList.clear()\n",
    "for x in range(len(coordinatesLotLon)):\n",
    "    x = coordinatesLotLon[x]\n",
    "    text = x[6:].replace(\" \",\"','\")\n",
    "    text = str(text)[1:-1]\n",
    "    newTestList.append(text)\n",
    "\n",
    "# newTestList\n",
    "newTestList[0]\n",
    "\n",
    "Website_Date_list =  []\n",
    "Website_Date_list.clear()\n",
    "def change_Website_Date (input):\n",
    "    for x in range(len(input)):\n",
    "        text = input[x]\n",
    "        text = str(text)[0:10]\n",
    "        Website_Date_list.append(str(text))\n",
    "change_Website_Date(Website_Date) \n",
    "\n",
    "\n",
    "\n",
    "print(Website_Date[0])\n",
    "# print(newTestList[0:10])\n",
    "\n"
   ]
  },
  {
   "cell_type": "code",
   "execution_count": 14,
   "metadata": {},
   "outputs": [
    {
     "name": "stdout",
     "output_type": "stream",
     "text": [
      "31.650259\n",
      "-110.366453\n",
      "11469\n"
     ]
    }
   ],
   "source": [
    "# testing the previous code is working and it did it\n",
    "# l = ['a','b',',',' d','e']\n",
    "# l = (newTestList[0])\n",
    "# c_index = l.index(\",\")\n",
    "# l2 = l[:c_index]\n",
    "# l3 = l[c_index+1:]\n",
    "# print(l2)\n",
    "# print(l3)\n",
    "\n",
    "lat =[]\n",
    "lon= []\n",
    "lat.clear()\n",
    "lon.clear()\n",
    "for x in range(len(newTestList)):\n",
    "    try:\n",
    "        l = newTestList[x]\n",
    "        c_index = l.index(\",\")\n",
    "        l2 = l[:c_index-1]\n",
    "        l3 = l[c_index+2:]\n",
    "        lat.append(str(l3))\n",
    "        lon.append(str(l2))\n",
    "    except:\n",
    "        lat.append(\"null\")\n",
    "        lon.append(\"null\")\n",
    "print(lat[0])\n",
    "print(lon[0])\n",
    "print(len(lat))"
   ]
  },
  {
   "cell_type": "code",
   "execution_count": 15,
   "metadata": {},
   "outputs": [
    {
     "name": "stdout",
     "output_type": "stream",
     "text": [
      "null\n",
      "null\n",
      "         Main_ID    Incident_ID Incident_Type Region_of_Incident Website_Date  \\\n",
      "0  2014.MMP00001  2014.MMP00001      Incident      North America   2014-01-06   \n",
      "\n",
      "   Incident_year Reported_Month  Number_of_Dead  \\\n",
      "0           2014        January             1.0   \n",
      "\n",
      "   Minimum_Estimated_Number_of_Missing  Total_Number_of_Dead_and_Missing  ...  \\\n",
      "0                                  NaN                                 1  ...   \n",
      "\n",
      "                     Coordinates  UNSD_Geographical_Grouping  Article_title  \\\n",
      "0  POINT (-110.366453 31.650259)            Northern America            NaN   \n",
      "\n",
      "   Source_Quality                         URL serial        Coordinates_Fixed  \\\n",
      "0             5.0  http://humaneborders.info/      0  -110.366453','31.650259   \n",
      "\n",
      "  Website_Date_Fixed        lat          lon  \n",
      "0         2014-01-06  31.650259  -110.366453  \n",
      "\n",
      "[1 rows x 30 columns]\n"
     ]
    }
   ],
   "source": [
    "# first dataframe is good but needs better\n",
    "newTestList  = np.array(newTestList)\n",
    "df['Coordinates_Fixed'] = newTestList.tolist()\n",
    "\n",
    "\n",
    "Website_Date_list  = np.array(Website_Date_list)\n",
    "df['Website_Date_Fixed'] = Website_Date_list.tolist()\n",
    "\n",
    "print(lat[231])\n",
    "print(lon[231])\n",
    "\n",
    "lat  = np.array(lat)\n",
    "df['lat'] = lat.tolist()\n",
    "\n",
    "lon  = np.array(lon)\n",
    "df['lon'] = lon.tolist()\n",
    "\n",
    "print(df.head(1))\n",
    "df.to_csv('./visualiseringData.csv', index=False)\n"
   ]
  },
  {
   "cell_type": "code",
   "execution_count": 16,
   "metadata": {},
   "outputs": [
    {
     "name": "stdout",
     "output_type": "stream",
     "text": [
      "         Main_ID    Incident_ID Incident_Type Region_of_Incident Website_Date  \\\n",
      "0  2014.MMP00001  2014.MMP00001      Incident      North America   2014-01-06   \n",
      "\n",
      "   Incident_year Reported_Month  Number_of_Dead  \\\n",
      "0           2014        January             1.0   \n",
      "\n",
      "   Minimum_Estimated_Number_of_Missing  Total_Number_of_Dead_and_Missing  ...  \\\n",
      "0                                  NaN                                 1  ...   \n",
      "\n",
      "                     Coordinates  UNSD_Geographical_Grouping  Article_title  \\\n",
      "0  POINT (-110.366453 31.650259)            Northern America            NaN   \n",
      "\n",
      "   Source_Quality                         URL serial        Coordinates_Fixed  \\\n",
      "0             5.0  http://humaneborders.info/      0  -110.366453','31.650259   \n",
      "\n",
      "  Website_Date_Fixed        lat          lon  \n",
      "0         2014-01-06  31.650259  -110.366453  \n",
      "\n",
      "[1 rows x 30 columns]\n"
     ]
    }
   ],
   "source": [
    "# testing the dataframe and its working\n",
    "print(df.head(1))\n",
    "df.to_csv('./visualiseringData.csv', index=False)"
   ]
  },
  {
   "cell_type": "code",
   "execution_count": 17,
   "metadata": {},
   "outputs": [
    {
     "name": "stdout",
     "output_type": "stream",
     "text": [
      "Index(['Main_ID', 'Incident_ID', 'Incident_Type', 'Region_of_Incident',\n",
      "       'Website_Date', 'Incident_year', 'Reported_Month', 'Number_of_Dead',\n",
      "       'Minimum_Estimated_Number_of_Missing',\n",
      "       'Total_Number_of_Dead_and_Missing', 'Number_of_Survivors',\n",
      "       'Number_of_Females', 'Number_of_Males', 'Number_of_Children',\n",
      "       'Country_of_Origin', 'Region_of_Origin', 'Cause_of_Death',\n",
      "       'Migration_route', 'Location_of_death', 'Information_Source',\n",
      "       'Coordinates', 'UNSD_Geographical_Grouping', 'Article_title',\n",
      "       'Source_Quality', 'URL', 'serial', 'Coordinates_Fixed',\n",
      "       'Website_Date_Fixed', 'lat', 'lon'],\n",
      "      dtype='object')\n"
     ]
    }
   ],
   "source": [
    "# testing the dataframe and its working \n",
    "visualiseringData = pd.read_csv(\"./visualiseringData.csv\")\n",
    "visualiseringData\n",
    "print(visualiseringData.columns)"
   ]
  },
  {
   "cell_type": "code",
   "execution_count": 18,
   "metadata": {},
   "outputs": [
    {
     "name": "stdout",
     "output_type": "stream",
     "text": [
      "11469\n",
      "5506\n"
     ]
    }
   ],
   "source": [
    "# here i need randowm list to apand add it to my new dataframe\n",
    "p0017 = pd.read_csv(\"./p0017_dataset.csv\")\n",
    "p0017\n",
    "random = p0017[\"random\"]\n",
    "randomlist = []\n",
    "\n",
    "\n",
    "# newTestList = []\n",
    "# newTestList.clear()\n",
    "# for x in range(len(coordinatesLotLon)):\n",
    "#     x = coordinatesLotLon[x]\n",
    "#     text = x[6:].replace(\" \",\"','\")\n",
    "#     text = str(text)[1:-1]\n",
    "#     newTestList.append(text)\n",
    "\n",
    "for x in range(len(random)):\n",
    "    x= random[x]\n",
    "    randomlist.append(x)\n",
    "\n",
    "for x in range(len(random)):\n",
    "    x= random[x]\n",
    "    randomlist.append(x)\n",
    "\n",
    "for x in range(457):\n",
    "    x= random[x]\n",
    "    randomlist.append(x)\n",
    "\n",
    "print(len(randomlist))\n",
    "# print(p0017.columns)\n",
    "print(len(random))\n",
    "\n",
    "# 11469"
   ]
  },
  {
   "cell_type": "code",
   "execution_count": 19,
   "metadata": {},
   "outputs": [
    {
     "name": "stdout",
     "output_type": "stream",
     "text": [
      "11469\n",
      "Index(['Main_ID', 'Incident_ID', 'Incident_Type', 'Region_of_Incident',\n",
      "       'Website_Date', 'Incident_year', 'Reported_Month', 'Number_of_Dead',\n",
      "       'Minimum_Estimated_Number_of_Missing',\n",
      "       'Total_Number_of_Dead_and_Missing', 'Number_of_Survivors',\n",
      "       'Number_of_Females', 'Number_of_Males', 'Number_of_Children',\n",
      "       'Country_of_Origin', 'Region_of_Origin', 'Cause_of_Death',\n",
      "       'Migration_route', 'Location_of_death', 'Information_Source',\n",
      "       'Coordinates', 'UNSD_Geographical_Grouping', 'Article_title',\n",
      "       'Source_Quality', 'URL', 'serial', 'Coordinates_Fixed',\n",
      "       'Website_Date_Fixed', 'lat', 'lon', 'random'],\n",
      "      dtype='object')\n"
     ]
    }
   ],
   "source": [
    "# adding random list form old dataframe to me new onw datafram MinivisualiseringData2\n",
    "randomlist  = np.array(randomlist)\n",
    "visualiseringData['random'] = randomlist.tolist()\n",
    "# visualiseringData.drop(['Main_ID'], axis=1)\n",
    "# del visualiseringData[\"Location_of_death\"]\n",
    "# visualiseringData.to_csv('./MinivisualiseringData.csv', index=False)\n",
    "visualiseringData.head(3)\n",
    "print(len(randomlist))\n",
    "print(visualiseringData.columns)\n",
    "# df.to_csv('./visualiseringData.csv', index=False)\n",
    "\n",
    "MinivisualiseringData = pd.read_csv(\"./MinivisualiseringData.csv\")\n",
    "randomlist  = np.array(randomlist)\n",
    "MinivisualiseringData['random'] = randomlist.tolist()\n",
    "MinivisualiseringData.to_csv('./MinivisualiseringData2.csv', index=False)"
   ]
  },
  {
   "attachments": {},
   "cell_type": "markdown",
   "metadata": {},
   "source": [
    "serial: +death.serial,\n",
    "region: death.Region_of_Origin,\n",
    "cause: death.Cause_of_Death,\n",
    "collap_cause: death.Cause_of_Death,\n",
    "border: death.Location_of_death,\n",
    "coord: [+death.lon, +death.lat],\n",
    "survivors: +death.Number_of_Survivors,\n",
    "date: parseTime(death.Website_Date_Fixed),\n",
    "random: +death.serial\n",
    "                    "
   ]
  },
  {
   "cell_type": "code",
   "execution_count": 23,
   "metadata": {},
   "outputs": [],
   "source": [
    "# her will add region fo incident to my minivisualiserings data and \n",
    "# # making new one with new name wich is version 3.\n",
    "MinivisualiseringData = pd.read_csv(\"./MinivisualiseringData2.csv\")\n",
    "Region_of_Incident\n",
    "Region_of_Incident  = np.array(Region_of_Incident)\n",
    "MinivisualiseringData['Region_of_Incident'] = Region_of_Incident.tolist()\n",
    "MinivisualiseringData.to_csv('./MinivisualiseringData3.csv', index=False)"
   ]
  },
  {
   "cell_type": "code",
   "execution_count": 29,
   "metadata": {},
   "outputs": [
    {
     "data": {
      "text/plain": [
       "0         North America\n",
       "1         North America\n",
       "2         North America\n",
       "3         North America\n",
       "4                Europe\n",
       "              ...      \n",
       "11464     North America\n",
       "11465         Caribbean\n",
       "11466     North America\n",
       "11467            Europe\n",
       "11468    Western Africa\n",
       "Name: Region_of_Incident, Length: 11469, dtype: object"
      ]
     },
     "execution_count": 29,
     "metadata": {},
     "output_type": "execute_result"
    }
   ],
   "source": [
    "\n",
    "MinivisualiseringData['Region_of_Incident']\n"
   ]
  },
  {
   "cell_type": "code",
   "execution_count": 20,
   "metadata": {},
   "outputs": [
    {
     "name": "stdout",
     "output_type": "stream",
     "text": [
      "Index(['Main_ID', 'Incident_ID', 'Incident_Type', 'Region_of_Incident',\n",
      "       'Website_Date', 'Incident_year', 'Reported_Month', 'Number_of_Dead',\n",
      "       'Minimum_Estimated_Number_of_Missing',\n",
      "       'Total_Number_of_Dead_and_Missing', 'Number_of_Survivors',\n",
      "       'Number_of_Females', 'Number_of_Males', 'Number_of_Children',\n",
      "       'Country_of_Origin', 'Region_of_Origin', 'Cause_of_Death',\n",
      "       'Migration_route', 'Location_of_death', 'Information_Source',\n",
      "       'Coordinates', 'UNSD_Geographical_Grouping', 'Article_title',\n",
      "       'Source_Quality', 'URL', 'serial', 'Coordinates_Fixed',\n",
      "       'Website_Date_Fixed', 'lat', 'lon', 'random'],\n",
      "      dtype='object')\n"
     ]
    }
   ],
   "source": [
    "\n",
    "# df.to_csv('./visualiseringData.csv', index=False)\n",
    "visualiseringData.head(1)\n",
    "print(visualiseringData.columns)"
   ]
  },
  {
   "cell_type": "code",
   "execution_count": 32,
   "metadata": {},
   "outputs": [
    {
     "data": {
      "text/plain": [
       "0     North America\n",
       "1     North America\n",
       "2     North America\n",
       "3     North America\n",
       "4            Europe\n",
       "5     North America\n",
       "6     Mediterranean\n",
       "7     North America\n",
       "8     North America\n",
       "9     North America\n",
       "10    North America\n",
       "11    North America\n",
       "12    North America\n",
       "13    North America\n",
       "14           Europe\n",
       "Name: Region_of_Incident, dtype: object"
      ]
     },
     "execution_count": 32,
     "metadata": {},
     "output_type": "execute_result"
    }
   ],
   "source": [
    "MinivisualiseringData['Region_of_Incident'].head(15\n",
    ")\n"
   ]
  },
  {
   "attachments": {},
   "cell_type": "markdown",
   "metadata": {},
   "source": [
    "#  read and fix data from null columns"
   ]
  },
  {
   "cell_type": "code",
   "execution_count": 2,
   "metadata": {},
   "outputs": [],
   "source": [
    "import pandas as pd\n",
    "import matplotlib.pyplot as plt\n",
    "%matplotlib inline\n",
    "import csv\n",
    "import os\n",
    "import numpy as np\n",
    "import pandas as pd\n",
    "\n",
    "# Importing re to get number out from a stirng.\n",
    "import re"
   ]
  },
  {
   "cell_type": "code",
   "execution_count": 3,
   "metadata": {},
   "outputs": [],
   "source": [
    "#  read and fix data from null columns \n",
    "FixDataCSV = pd.read_csv(\"./MinivisualiseringData3.csv\")"
   ]
  },
  {
   "cell_type": "code",
   "execution_count": 23,
   "metadata": {},
   "outputs": [],
   "source": [
    "FixDataCSV\n",
    "dfresult = FixDataCSV.dropna( axis=0.0, how=\"any\",  subset=[\"Number_of_Survivors\"], inplace=False)\n",
    "dfresult\n",
    "# dfresult[\"Number_of_Survivors\"]\n",
    "\n",
    "dfresult.to_csv('./FixDataCSV.csv', index=False)"
   ]
  }
 ],
 "metadata": {
  "kernelspec": {
   "display_name": "Python 3",
   "language": "python",
   "name": "python3"
  },
  "language_info": {
   "codemirror_mode": {
    "name": "ipython",
    "version": 3
   },
   "file_extension": ".py",
   "mimetype": "text/x-python",
   "name": "python",
   "nbconvert_exporter": "python",
   "pygments_lexer": "ipython3",
   "version": "3.10.0"
  },
  "orig_nbformat": 4,
  "vscode": {
   "interpreter": {
    "hash": "a42ccb73e7d9bfdf27e036f1d2b8b681e55fc0743cc5586bc2474d4a60f4b886"
   }
  }
 },
 "nbformat": 4,
 "nbformat_minor": 2
}
